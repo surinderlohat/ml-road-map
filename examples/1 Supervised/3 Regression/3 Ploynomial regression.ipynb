{
 "cells": [
  {
   "cell_type": "markdown",
   "metadata": {},
   "source": [
    "- Extends linear regression by adding polynomial terms to model non-linear relationships.\n",
    "- Common applications: modeling growth rates, and predicting outcomes with quadratic or cubic trends."
   ]
  },
  {
   "cell_type": "code",
   "execution_count": null,
   "metadata": {},
   "outputs": [],
   "source": []
  }
 ],
 "metadata": {
  "language_info": {
   "name": "python"
  }
 },
 "nbformat": 4,
 "nbformat_minor": 2
}
